{
 "cells": [
  {
   "cell_type": "markdown",
   "metadata": {},
   "source": [
    "# Filter pixel classifications results by segments\n",
    "\n",
    "To Do:\n",
    "- multiband inputs to rsgislib.shpeherdseg ?\n",
    "- custom statistics to zonal stats? https://pythonhosted.org/rasterstats/manual.html#user-defined-statistics\n",
    "\n",
    "\n",
    "        def mymean(x):\n",
    "           return np.ma.mean(x)\n",
    "\n",
    "        zonal_stats(\"tests/data/polygons.shp\",\n",
    "                    \"tests/data/slope.tif\",\n",
    "                    stats=\"count\",\n",
    "                     add_stats={'mymean':mymean})\n"
   ]
  },
  {
   "cell_type": "code",
   "execution_count": 1,
   "metadata": {},
   "outputs": [
    {
     "name": "stderr",
     "output_type": "stream",
     "text": [
      "/env/lib/python3.6/site-packages/datacube/storage/masking.py:4: DeprecationWarning: datacube.storage.masking has moved to datacube.utils.masking\n",
      "  category=DeprecationWarning)\n",
      "/usr/lib/python3.6/importlib/_bootstrap.py:219: RuntimeWarning: numpy.ufunc size changed, may indicate binary incompatibility. Expected 192 from C header, got 216 from PyObject\n",
      "  return f(*args, **kwds)\n"
     ]
    }
   ],
   "source": [
    "import os\n",
    "import sys\n",
    "import gdal\n",
    "import shutil\n",
    "import xarray as xr\n",
    "import geopandas as gpd\n",
    "import subprocess as sp\n",
    "from rsgislib.segmentation import segutils\n",
    "\n",
    "sys.path.append('../../Scripts')\n",
    "from deafrica_classificationtools import HiddenPrints\n",
    "from deafrica_spatialtools import xr_rasterize, xr_vectorize, zonal_stats_parallel\n",
    "\n",
    "%load_ext autoreload\n",
    "%autoreload 2"
   ]
  },
  {
   "cell_type": "markdown",
   "metadata": {},
   "source": [
    "# Analysis Parameters"
   ]
  },
  {
   "cell_type": "code",
   "execution_count": 2,
   "metadata": {},
   "outputs": [],
   "source": [
    "test_shapefile = 'data/eastern_testing_sites.geojson'\n",
    "\n",
    "results = 'results/classifications/'\n",
    "\n",
    "model_type='gm_mads_two_seasons'\n",
    "\n",
    "min_seg_size=100 #in number of pixels"
   ]
  },
  {
   "cell_type": "markdown",
   "metadata": {},
   "source": [
    "### Open testing tile shapefile"
   ]
  },
  {
   "cell_type": "code",
   "execution_count": 3,
   "metadata": {},
   "outputs": [],
   "source": [
    "gdf = gpd.read_file(test_shapefile)"
   ]
  },
  {
   "cell_type": "markdown",
   "metadata": {},
   "source": [
    "## Image segmentation\n",
    "\n",
    "1. Generate image segments\n",
    "2. Vectorize segments\n",
    "3. Calculate zonal 'majority' statistic over vectorized segments\n",
    "4. Rasterize segments using 'majority' as pixel values.\n",
    "5. Write object-based classification to disk"
   ]
  },
  {
   "cell_type": "markdown",
   "metadata": {},
   "source": [
    "### Automatically find the number of cpus"
   ]
  },
  {
   "cell_type": "code",
   "execution_count": 4,
   "metadata": {},
   "outputs": [
    {
     "name": "stdout",
     "output_type": "stream",
     "text": [
      "ncpus = 15\n"
     ]
    }
   ],
   "source": [
    "try:\n",
    "    ncpus = int(float(sp.getoutput('env | grep CPU')[-4:]))\n",
    "except:\n",
    "    ncpus = int(float(sp.getoutput('env | grep CPU')[-3:]))\n",
    "\n",
    "print('ncpus = '+str(ncpus))"
   ]
  },
  {
   "cell_type": "code",
   "execution_count": 5,
   "metadata": {},
   "outputs": [
    {
     "name": "stdout",
     "output_type": "stream",
     "text": [
      "working on grid: E-14\n",
      "   image segmentation...\n"
     ]
    },
    {
     "name": "stderr",
     "output_type": "stream",
     "text": [
      "/env/lib/python3.6/site-packages/pyproj/crs/crs.py:280: FutureWarning: '+init=<authority>:<code>' syntax is deprecated. '<authority>:<code>' is the preferred initialization method. When making the change, be mindful of axis order changes: https://pyproj4.github.io/pyproj/stable/gotchas.html#axis-order-changes-in-proj-6\n",
      "  projstring = _prepare_from_string(projparams)\n"
     ]
    },
    {
     "name": "stdout",
     "output_type": "stream",
     "text": [
      "Number of segments: 348908\n",
      "CPU times: user 9min 3s, sys: 6.74 s, total: 9min 9s\n",
      "Wall time: 9min 11s\n"
     ]
    }
   ],
   "source": [
    "%%time\n",
    "for g_id in gdf['GRID_ID'][5:6].values:\n",
    "    print('working on grid: ' + g_id)\n",
    "    \n",
    "    #store temp files somewhere\n",
    "    directory=results+'tmp_'+g_id\n",
    "    if not os.path.exists(directory):\n",
    "        os.mkdir(directory)\n",
    "    \n",
    "    tmp='tmp_'+g_id+'/'\n",
    "    \n",
    "    #inputs to image seg\n",
    "    tiff_to_segment = results+'Eastern_tile_'+g_id+'_NDVI_S1.tif'\n",
    "    kea_file = results+'Eastern_tile_'+g_id+'_NDVI_S1.kea'\n",
    "    segmented_kea_file = results+'Eastern_tile_'+g_id+'_segmented.kea'\n",
    "\n",
    "    #convert tiff to kea\n",
    "    gdal.Translate(destName=kea_file,\n",
    "                   srcDS=tiff_to_segment,\n",
    "                   format='KEA',\n",
    "                   outputSRS='EPSG:6933')\n",
    "    \n",
    "    #run image seg\n",
    "    print('   image segmentation...')\n",
    "    with HiddenPrints():\n",
    "        segutils.runShepherdSegmentation(inputImg=kea_file,\n",
    "                                         outputClumps=segmented_kea_file,\n",
    "                                         tmpath=tmp,\n",
    "                                         numClusters=60,\n",
    "                                         minPxls=min_seg_size)\n",
    "    \n",
    "    #open segments\n",
    "    da=xr.open_rasterio(segmented_kea_file).squeeze()\n",
    "\n",
    "    #convert to polygons and export to disk\n",
    "    print('   writing segments to shapefile...')\n",
    "    with HiddenPrints():\n",
    "        gdf_seg = xr_vectorize(da, attribute_col='attribute')\n",
    "    print(\"Number of segments: \"+str(len(gdf_seg)))\n",
    "    gdf_seg.to_file(results+tmp+'Eastern_tile_'+g_id+'_segments.shp')\n",
    "    \n",
    "#     #calculate zonal-stats\n",
    "#     print('   zonal statistics...')\n",
    "#     zonal_stats_parallel(shp=results+tmp+'Eastern_tile_'+g_id+'_segments.shp',\n",
    "#            raster=results+ 'Eastern_tile_'+g_id+'_prediction_pixel_'+model_type+'.tif',\n",
    "#            statistics=['majority'],\n",
    "#            out_shp=results+tmp+'Eastern_tile_'+g_id+\"_zonal_stats.shp\",\n",
    "#            ncpus=ncpus\n",
    "#                )\n",
    "    \n",
    "#     #rasterize the zonal-stats\n",
    "#     with HiddenPrints():\n",
    "#         gdf_zs=gpd.read_file(results+tmp+'Eastern_tile_'+g_id+\"_zonal_stats.shp\")\n",
    "#         predict_zs = xr_rasterize(gdf_zs, da, attribute_col='majority')\n",
    "    \n",
    "#     #write to disk\n",
    "#     write_cog(predict_zs, results+ 'Eastern_tile_'+g_id+'_prediction_object_'+model_type+'.tif', overwrite=True)\n",
    "    \n",
    "#     #remove the tmp folder\n",
    "#     shutil.rmtree(results+tmp)\n",
    "#     os.remove(kea_file)\n",
    "#     os.remove(segmented_kea_file)"
   ]
  },
  {
   "cell_type": "code",
   "execution_count": null,
   "metadata": {},
   "outputs": [],
   "source": []
  },
  {
   "cell_type": "code",
   "execution_count": 6,
   "metadata": {},
   "outputs": [
    {
     "data": {
      "text/html": [
       "<div>\n",
       "<style scoped>\n",
       "    .dataframe tbody tr th:only-of-type {\n",
       "        vertical-align: middle;\n",
       "    }\n",
       "\n",
       "    .dataframe tbody tr th {\n",
       "        vertical-align: top;\n",
       "    }\n",
       "\n",
       "    .dataframe thead th {\n",
       "        text-align: right;\n",
       "    }\n",
       "</style>\n",
       "<table border=\"1\" class=\"dataframe\">\n",
       "  <thead>\n",
       "    <tr style=\"text-align: right;\">\n",
       "      <th></th>\n",
       "      <th>attribute</th>\n",
       "      <th>geometry</th>\n",
       "    </tr>\n",
       "  </thead>\n",
       "  <tbody>\n",
       "    <tr>\n",
       "      <th>0</th>\n",
       "      <td>12.0</td>\n",
       "      <td>POLYGON ((3624200.000 121740.000, 3624200.000 ...</td>\n",
       "    </tr>\n",
       "    <tr>\n",
       "      <th>1</th>\n",
       "      <td>19.0</td>\n",
       "      <td>POLYGON ((3620220.000 121720.000, 3620220.000 ...</td>\n",
       "    </tr>\n",
       "    <tr>\n",
       "      <th>2</th>\n",
       "      <td>7.0</td>\n",
       "      <td>POLYGON ((3622320.000 121740.000, 3622320.000 ...</td>\n",
       "    </tr>\n",
       "    <tr>\n",
       "      <th>3</th>\n",
       "      <td>81.0</td>\n",
       "      <td>POLYGON ((3602340.000 121620.000, 3602340.000 ...</td>\n",
       "    </tr>\n",
       "    <tr>\n",
       "      <th>4</th>\n",
       "      <td>86.0</td>\n",
       "      <td>POLYGON ((3603440.000 121620.000, 3603440.000 ...</td>\n",
       "    </tr>\n",
       "    <tr>\n",
       "      <th>...</th>\n",
       "      <td>...</td>\n",
       "      <td>...</td>\n",
       "    </tr>\n",
       "    <tr>\n",
       "      <th>348903</th>\n",
       "      <td>348882.0</td>\n",
       "      <td>POLYGON ((3471080.000 -66840.000, 3471080.000 ...</td>\n",
       "    </tr>\n",
       "    <tr>\n",
       "      <th>348904</th>\n",
       "      <td>348854.0</td>\n",
       "      <td>POLYGON ((3463060.000 -66760.000, 3463060.000 ...</td>\n",
       "    </tr>\n",
       "    <tr>\n",
       "      <th>348905</th>\n",
       "      <td>348902.0</td>\n",
       "      <td>POLYGON ((3465820.000 -66980.000, 3465820.000 ...</td>\n",
       "    </tr>\n",
       "    <tr>\n",
       "      <th>348906</th>\n",
       "      <td>348812.0</td>\n",
       "      <td>POLYGON ((3463640.000 -66680.000, 3463640.000 ...</td>\n",
       "    </tr>\n",
       "    <tr>\n",
       "      <th>348907</th>\n",
       "      <td>1.0</td>\n",
       "      <td>POLYGON ((3461740.000 121760.000, 3461740.000 ...</td>\n",
       "    </tr>\n",
       "  </tbody>\n",
       "</table>\n",
       "<p>348908 rows × 2 columns</p>\n",
       "</div>"
      ],
      "text/plain": [
       "        attribute                                           geometry\n",
       "0            12.0  POLYGON ((3624200.000 121740.000, 3624200.000 ...\n",
       "1            19.0  POLYGON ((3620220.000 121720.000, 3620220.000 ...\n",
       "2             7.0  POLYGON ((3622320.000 121740.000, 3622320.000 ...\n",
       "3            81.0  POLYGON ((3602340.000 121620.000, 3602340.000 ...\n",
       "4            86.0  POLYGON ((3603440.000 121620.000, 3603440.000 ...\n",
       "...           ...                                                ...\n",
       "348903   348882.0  POLYGON ((3471080.000 -66840.000, 3471080.000 ...\n",
       "348904   348854.0  POLYGON ((3463060.000 -66760.000, 3463060.000 ...\n",
       "348905   348902.0  POLYGON ((3465820.000 -66980.000, 3465820.000 ...\n",
       "348906   348812.0  POLYGON ((3463640.000 -66680.000, 3463640.000 ...\n",
       "348907        1.0  POLYGON ((3461740.000 121760.000, 3461740.000 ...\n",
       "\n",
       "[348908 rows x 2 columns]"
      ]
     },
     "execution_count": 6,
     "metadata": {},
     "output_type": "execute_result"
    }
   ],
   "source": [
    "gdf_seg"
   ]
  },
  {
   "cell_type": "code",
   "execution_count": null,
   "metadata": {},
   "outputs": [
    {
     "name": "stdout",
     "output_type": "stream",
     "text": [
      "CPU times: user 2 µs, sys: 0 ns, total: 2 µs\n",
      "Wall time: 5.01 µs\n"
     ]
    },
    {
     "name": "stderr",
     "output_type": "stream",
     "text": [
      "/env/lib/python3.6/site-packages/fiona/collection.py:352: FionaDeprecationWarning: Collection slicing is deprecated and will be disabled in a future version.\n",
      "  return self.session.__getitem__(item)\n"
     ]
    }
   ],
   "source": [
    "%time\n",
    "zonal_stats_parallel(shp=results+tmp+'Eastern_tile_'+g_id+'_segments.shp',\n",
    "           raster=results+ 'Eastern_tile_'+g_id+'_prediction_pixel_'+model_type+'.tif',\n",
    "           statistics=['majority'],\n",
    "           out_shp=results+tmp+'Eastern_tile_'+g_id+\"_zonal_stats.shp\",\n",
    "           ncpus=ncpus,\n",
    "           nodata=-1\n",
    "               )"
   ]
  },
  {
   "cell_type": "code",
   "execution_count": null,
   "metadata": {},
   "outputs": [],
   "source": [
    "kwargs={'nodata':-1},"
   ]
  },
  {
   "cell_type": "code",
   "execution_count": null,
   "metadata": {},
   "outputs": [],
   "source": []
  },
  {
   "cell_type": "code",
   "execution_count": null,
   "metadata": {},
   "outputs": [],
   "source": [
    "predict_zs.plot(size=8)"
   ]
  },
  {
   "cell_type": "code",
   "execution_count": null,
   "metadata": {},
   "outputs": [],
   "source": []
  },
  {
   "cell_type": "code",
   "execution_count": null,
   "metadata": {},
   "outputs": [],
   "source": []
  },
  {
   "cell_type": "code",
   "execution_count": null,
   "metadata": {},
   "outputs": [],
   "source": []
  },
  {
   "cell_type": "code",
   "execution_count": null,
   "metadata": {},
   "outputs": [],
   "source": []
  },
  {
   "cell_type": "markdown",
   "metadata": {},
   "source": [
    "***\n",
    "## RSGISlib Shepherd Seg"
   ]
  },
  {
   "cell_type": "markdown",
   "metadata": {},
   "source": [
    "### single cpu, tiled"
   ]
  },
  {
   "cell_type": "code",
   "execution_count": null,
   "metadata": {},
   "outputs": [],
   "source": [
    "%time\n",
    "# #run the segmentation\n",
    "with HiddenPrints():\n",
    "    tiledsegsingle.performTiledSegmentation(kea_file,\n",
    "                                    segmented_kea_file,\n",
    "                                    tmpDIR=temp,\n",
    "                                    numClusters=60,\n",
    "                                    validDataThreshold=validDataTileFraction, \n",
    "                                    tileWidth=width,\n",
    "                                    tileHeight=height,\n",
    "                                    minPxls=9)"
   ]
  },
  {
   "cell_type": "code",
   "execution_count": null,
   "metadata": {},
   "outputs": [],
   "source": [
    "# Attribute segments with zonal mean of input image and output as geotiff\n",
    "meanImage(tiff_to_segment, segmented_kea_file, segments_zonal_mean, \"GTIFF\",rsgislib.TYPE_32FLOAT)"
   ]
  },
  {
   "cell_type": "markdown",
   "metadata": {},
   "source": [
    "### n cpus, tiled"
   ]
  },
  {
   "cell_type": "code",
   "execution_count": null,
   "metadata": {},
   "outputs": [],
   "source": [
    "# %time\n",
    "#run the segmentation\n",
    "with HiddenPrints():\n",
    "    tiledSegParallel.performTiledSegmentation(kea_file,\n",
    "                                segmented_kea_file,\n",
    "                                tmpDIR=temp,\n",
    "                                numClusters=60,\n",
    "                                validDataThreshold=validDataTileFraction, \n",
    "                                tileWidth=width,\n",
    "                                tileHeight=height,\n",
    "                                minPxls=9,\n",
    "                                ncpus=ncpus)"
   ]
  },
  {
   "cell_type": "code",
   "execution_count": null,
   "metadata": {},
   "outputs": [],
   "source": [
    "# Attribute segments with zonal mean of input image and output as geotiff\n",
    "meanImage(tiff_to_segment, segmented_kea_file, segments_zonal_mean, \"GTIFF\",rsgislib.TYPE_32FLOAT)"
   ]
  },
  {
   "cell_type": "markdown",
   "metadata": {},
   "source": [
    "Dask parallel zonal stats (seems really slow)"
   ]
  },
  {
   "cell_type": "code",
   "execution_count": null,
   "metadata": {},
   "outputs": [],
   "source": [
    "# %%time\n",
    "# pred = xr.open_rasterio(results+ 'Eastern_tile_'+g_id+'_prediction_pixel_'+model_type+'.tif').squeeze()\n",
    "# arr = pred.values\n",
    "# affine = pred.geobox.affine\n",
    "\n",
    "# #gdf_segrt geopandas dataframe to dask dataframe\n",
    "# data_dd = dd.from_pandas(z, npartitions=15)\n",
    "\n",
    "# #fin majority of pixel\n",
    "# res = data_dd.map_partitions(lambda df: df.assign(majority=pd.DataFrame(zonal_stats(vectors=z['geometry'],\n",
    "#                                            affine=affine,\n",
    "#                                            raster=arr,\n",
    "#                                            stats='majority'))['majority']),\n",
    "#                                             meta=data_dd).compute()\n",
    "# print(res)"
   ]
  }
 ],
 "metadata": {
  "kernelspec": {
   "display_name": "Python 3",
   "language": "python",
   "name": "python3"
  },
  "language_info": {
   "codemirror_mode": {
    "name": "ipython",
    "version": 3
   },
   "file_extension": ".py",
   "mimetype": "text/x-python",
   "name": "python",
   "nbconvert_exporter": "python",
   "pygments_lexer": "ipython3",
   "version": "3.6.9"
  }
 },
 "nbformat": 4,
 "nbformat_minor": 4
}
