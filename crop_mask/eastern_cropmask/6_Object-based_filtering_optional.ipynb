{
 "cells": [
  {
   "cell_type": "markdown",
   "metadata": {},
   "source": [
    "# Image segmentation\n",
    "\n",
    "Testing algorithms for extracting image objects of cropping over Africa on Sentinel 2 images\n",
    "\n",
    "Requirements:\n",
    "- Works well on small-scale ag\n",
    "- works well on large scale ag\n",
    "- fast and/or works in parallel\n",
    "- scaleable to very large AEZs\n",
    "\n"
   ]
  },
  {
   "cell_type": "markdown",
   "metadata": {},
   "source": [
    "`Pathos` and `rios` are required for the parallel image seg of Shepherd Seg, which is available on the `unstable` sandbox\n",
    "\n",
    "    !pip install pathos\n",
    "    !pip install git+https://github.com/ubarsc/rios.git\n",
    "\n",
    "    "
   ]
  },
  {
   "cell_type": "code",
   "execution_count": null,
   "metadata": {},
   "outputs": [],
   "source": [
    "!pip install pathos\n",
    "!pip install git+https://github.com/ubarsc/rios.git"
   ]
  },
  {
   "cell_type": "code",
   "execution_count": null,
   "metadata": {},
   "outputs": [],
   "source": [
    "import rsgislib\n",
    "import gdal\n",
    "import xarray as xr\n",
    "import numpy as np\n",
    "import datacube\n",
    "import sys\n",
    "from skimage.segmentation import quickshift\n",
    "from datacube.utils.cog import write_cog\n",
    "import matplotlib.pyplot as plt\n",
    "from sklearn.cluster import MeanShift, estimate_bandwidth\n",
    "import tiledSegParallel\n",
    "from rsgislib.segmentation import segutils, meanImage, tiledsegsingle\n",
    "\n",
    "sys.path.append('../Scripts')\n",
    "from deafrica_datahandling import load_ard\n",
    "from deafrica_bandindices import calculate_indices\n",
    "from deafrica_classificationtools import HiddenPrints"
   ]
  },
  {
   "cell_type": "markdown",
   "metadata": {},
   "source": [
    "### load data"
   ]
  },
  {
   "cell_type": "code",
   "execution_count": null,
   "metadata": {},
   "outputs": [],
   "source": [
    "dc = datacube.Datacube(app='image_seg')\n",
    "\n",
    "# Define area of interest\n",
    "lat = -0.1760 #-34.263 \n",
    "lon = 36.154 #19.603\n",
    "lon_buffer = 2.0 #0.0175\n",
    "lat_buffer = 2.0 #0.004\n",
    "\n",
    "# Combine central lat,lon with buffer to get area of interest\n",
    "lat_range = (lat-lat_buffer, lat+lat_buffer)\n",
    "lon_range = (lon-lon_buffer, lon+lon_buffer)\n",
    "\n",
    "# Set the range of dates for the analysis\n",
    "years_range = ('2018-12')"
   ]
  },
  {
   "cell_type": "code",
   "execution_count": null,
   "metadata": {},
   "outputs": [],
   "source": [
    "# Create a reusable query\n",
    "query = {\n",
    "    'y': lat_range,\n",
    "    'x': lon_range,\n",
    "    'time': years_range,\n",
    "    'measurements': ['red', 'nir'],\n",
    "    'resolution': (-30,30),\n",
    "    'output_crs': 'epsg:6933'\n",
    "}\n",
    "\n",
    "# Load available data from Landsat 8\n",
    "ds = dc.load(product='ga_ls8c_gm_2_annual',\n",
    "              **query,\n",
    "              )\n",
    "\n",
    "print(ds)"
   ]
  },
  {
   "cell_type": "code",
   "execution_count": null,
   "metadata": {},
   "outputs": [],
   "source": [
    "ndvi = calculate_indices(ds, index='NDVI', drop=True, collection='s2')\n",
    "\n",
    "#handle all-NaN slices\n",
    "mask=ndvi.NDVI.isnull().all('time')\n",
    "ndvi = ndvi.where(~mask, 0)"
   ]
  },
  {
   "cell_type": "code",
   "execution_count": null,
   "metadata": {},
   "outputs": [],
   "source": [
    "write_cog(ndvi.NDVI.max('time'),\n",
    "          'meanNDVI.tif', overwrite=True)"
   ]
  },
  {
   "cell_type": "markdown",
   "metadata": {},
   "source": [
    "## RSGISlib Shepherd Seg"
   ]
  },
  {
   "cell_type": "code",
   "execution_count": null,
   "metadata": {},
   "outputs": [],
   "source": [
    "# Name of the GeoTIFF to export then and segment\n",
    "tiff_to_segment = 'meanNDVI.tif' \n",
    "\n",
    "# Name of the .kea file the GeoTIFF will be converted too\n",
    "kea_file = 'meanNDVI.kea'\n",
    "\n",
    "# Name of the segmented .kea file that will be output \n",
    "segmented_kea_file = 'meanNDVI_segmented.kea'\n",
    "\n",
    "# Name of the segmented .kea file attributed with the zonal mean of input file\n",
    "segments_zonal_mean = 'segments_zonal_mean_shepherdSeg.tif'\n",
    "\n",
    "# Location to a folder to store temporary files during segmentation\n",
    "temp = 'tmps/'\n",
    "\n",
    "# How many cpus will this run on?\n",
    "ncpus=14\n",
    "\n",
    "# what fraction of a tile should contain valid data? Below this threshold\n",
    "# a tile will be merged with its neighbour. \n",
    "validDataTileFraction = 0.3\n",
    "\n",
    "# enter the tile size parameters (in number of pixels)\n",
    "width = 4000\n",
    "height = 4000\n"
   ]
  },
  {
   "cell_type": "code",
   "execution_count": null,
   "metadata": {},
   "outputs": [],
   "source": [
    "# Convert the GeoTIFF into a KEA file format\n",
    "gdal.Translate(destName=kea_file,\n",
    "               srcDS=tiff_to_segment,\n",
    "               format='KEA',\n",
    "               outputSRS='EPSG:6933')"
   ]
  },
  {
   "cell_type": "markdown",
   "metadata": {},
   "source": [
    "### single cpu, no tiles"
   ]
  },
  {
   "cell_type": "code",
   "execution_count": null,
   "metadata": {},
   "outputs": [],
   "source": [
    "%%time\n",
    "segutils.runShepherdSegmentation(inputImg=kea_file,\n",
    "                                 outputClumps=segmented_kea_file,\n",
    "                                 outputMeanImg=segments_zonal_mean,\n",
    "                                 numClusters=60,\n",
    "                                 minPxls=10)\n"
   ]
  },
  {
   "cell_type": "code",
   "execution_count": null,
   "metadata": {},
   "outputs": [],
   "source": [
    "# Open and plot the segments attributed with zonal mean NDVI\n",
    "result = xr.open_rasterio(segments_zonal_mean)\n",
    "# result.plot(vmin=0.1, vmax=1.0, figsize=(8, 8), cmap='gist_earth_r')"
   ]
  },
  {
   "cell_type": "code",
   "execution_count": null,
   "metadata": {},
   "outputs": [],
   "source": [
    "result"
   ]
  },
  {
   "cell_type": "code",
   "execution_count": null,
   "metadata": {},
   "outputs": [],
   "source": [
    "result.isel(x=range(750,1000), y=range(1200,1500)).plot(vmin=0.1, vmax=1.0,figsize=(10, 10), cmap='gist_earth_r')"
   ]
  },
  {
   "cell_type": "markdown",
   "metadata": {},
   "source": [
    "### single cpu, tiled"
   ]
  },
  {
   "cell_type": "code",
   "execution_count": null,
   "metadata": {},
   "outputs": [],
   "source": [
    "%time\n",
    "# #run the segmentation\n",
    "with HiddenPrints():\n",
    "    tiledsegsingle.performTiledSegmentation(kea_file,\n",
    "                                    segmented_kea_file,\n",
    "                                    tmpDIR=temp,\n",
    "                                    numClusters=60,\n",
    "                                    validDataThreshold=validDataTileFraction, \n",
    "                                    tileWidth=width,\n",
    "                                    tileHeight=height,\n",
    "                                    minPxls=9)"
   ]
  },
  {
   "cell_type": "code",
   "execution_count": null,
   "metadata": {},
   "outputs": [],
   "source": [
    "# Attribute segments with zonal mean of input image and output as geotiff\n",
    "meanImage(tiff_to_segment, segmented_kea_file, segments_zonal_mean, \"GTIFF\",rsgislib.TYPE_32FLOAT)"
   ]
  },
  {
   "cell_type": "markdown",
   "metadata": {},
   "source": [
    "### n cpus, tiled"
   ]
  },
  {
   "cell_type": "code",
   "execution_count": null,
   "metadata": {},
   "outputs": [],
   "source": [
    "# %time\n",
    "#run the segmentation\n",
    "with HiddenPrints():\n",
    "    tiledSegParallel.performTiledSegmentation(kea_file,\n",
    "                                segmented_kea_file,\n",
    "                                tmpDIR=temp,\n",
    "                                numClusters=60,\n",
    "                                validDataThreshold=validDataTileFraction, \n",
    "                                tileWidth=width,\n",
    "                                tileHeight=height,\n",
    "                                minPxls=9,\n",
    "                                ncpus=ncpus)"
   ]
  },
  {
   "cell_type": "code",
   "execution_count": null,
   "metadata": {},
   "outputs": [],
   "source": [
    "# Attribute segments with zonal mean of input image and output as geotiff\n",
    "meanImage(tiff_to_segment, segmented_kea_file, segments_zonal_mean, \"GTIFF\",rsgislib.TYPE_32FLOAT)"
   ]
  },
  {
   "cell_type": "markdown",
   "metadata": {},
   "source": [
    "## Mean-shift"
   ]
  },
  {
   "cell_type": "code",
   "execution_count": null,
   "metadata": {},
   "outputs": [],
   "source": [
    "%%time\n",
    "# The following bandwidth can be automatically detected using\n",
    "bandwidth = estimate_bandwidth(ndvi_mean.values, quantile=0.5, n_jobs=-1)"
   ]
  },
  {
   "cell_type": "code",
   "execution_count": null,
   "metadata": {},
   "outputs": [],
   "source": [
    "%%time\n",
    "original_shape = ndvi_mean.shape # so we can reshape the labels later\n",
    "\n",
    "samples = np.column_stack([ndvi_mean.values.flatten()])\n",
    "\n",
    "clf = MeanShift(bin_seeding=True,\n",
    "               min_bin_freq=10,\n",
    "                n_jobs=-1)\n",
    "\n",
    "labels = clf.fit_predict(samples).reshape(original_shape)\n",
    "\n",
    "plt.imshow(labels)\n",
    "plt.show()"
   ]
  },
  {
   "cell_type": "code",
   "execution_count": null,
   "metadata": {},
   "outputs": [],
   "source": []
  }
 ],
 "metadata": {
  "kernelspec": {
   "display_name": "Python 3",
   "language": "python",
   "name": "python3"
  },
  "language_info": {
   "codemirror_mode": {
    "name": "ipython",
    "version": 3
   },
   "file_extension": ".py",
   "mimetype": "text/x-python",
   "name": "python",
   "nbconvert_exporter": "python",
   "pygments_lexer": "ipython3",
   "version": "3.6.9"
  }
 },
 "nbformat": 4,
 "nbformat_minor": 4
}
