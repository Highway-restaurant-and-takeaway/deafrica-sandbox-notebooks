{
 "cells": [
  {
   "cell_type": "markdown",
   "metadata": {},
   "source": [
    "# Filter pixel classifications results by segments\n",
    "\n",
    "To Do:\n",
    "- multiband inputs to rsgislib.shpeherdseg ?\n",
    "- custom statistics to zonal stats? https://pythonhosted.org/rasterstats/manual.html#user-defined-statistics\n",
    "\n",
    "\n",
    "        def mymean(x):\n",
    "           return np.ma.mean(x)\n",
    "\n",
    "        zonal_stats(\"tests/data/polygons.shp\",\n",
    "                    \"tests/data/slope.tif\",\n",
    "                    stats=\"count\",\n",
    "                     add_stats={'mymean':mymean})\n",
    "\n",
    "- instead of zonal_stats_parallel use RSGISLIB's raster-attribute-tables to assign pixel values to clumps?\n",
    "\n",
    "`rsgislib.rastergis.populateRATWithMode`\n",
    "https://www.rsgislib.org/rsgislib_rastergis.html?#rsgislib.rastergis.ratutils.populateImageStats"
   ]
  },
  {
   "cell_type": "code",
   "execution_count": null,
   "metadata": {},
   "outputs": [],
   "source": [
    "import os\n",
    "import sys\n",
    "import gdal\n",
    "import shutil\n",
    "import xarray as xr\n",
    "import geopandas as gpd\n",
    "import subprocess as sp\n",
    "from datacube.utils.cog import write_cog\n",
    "from rsgislib.segmentation import segutils\n",
    "\n",
    "sys.path.append('../../Scripts')\n",
    "from deafrica_classificationtools import HiddenPrints\n",
    "from deafrica_spatialtools import xr_rasterize, xr_vectorize, zonal_stats_parallel\n",
    "\n",
    "%load_ext autoreload\n",
    "%autoreload 2"
   ]
  },
  {
   "cell_type": "markdown",
   "metadata": {},
   "source": [
    "# Analysis Parameters"
   ]
  },
  {
   "cell_type": "code",
   "execution_count": null,
   "metadata": {},
   "outputs": [],
   "source": [
    "test_shapefile = 'data/eastern_testing_sites.geojson'\n",
    "\n",
    "results = 'results/classifications/'\n",
    "\n",
    "model_type='gm_mads_two_seasons'\n",
    "\n",
    "min_seg_size=25 #in number of pixels"
   ]
  },
  {
   "cell_type": "markdown",
   "metadata": {},
   "source": [
    "### Open testing tile shapefile"
   ]
  },
  {
   "cell_type": "code",
   "execution_count": null,
   "metadata": {},
   "outputs": [],
   "source": [
    "gdf = gpd.read_file(test_shapefile)"
   ]
  },
  {
   "cell_type": "markdown",
   "metadata": {},
   "source": [
    "## Image segmentation\n",
    "\n",
    "1. Generate image segments\n",
    "2. Vectorize segments\n",
    "3. Calculate zonal 'majority' statistic over vectorized segments\n",
    "4. Rasterize segments using 'majority' as pixel values.\n",
    "5. Write object-based classification to disk"
   ]
  },
  {
   "cell_type": "markdown",
   "metadata": {},
   "source": [
    "### Automatically find the number of cpus"
   ]
  },
  {
   "cell_type": "code",
   "execution_count": null,
   "metadata": {},
   "outputs": [],
   "source": [
    "try:\n",
    "    ncpus = int(float(sp.getoutput('env | grep CPU')[-4:]))\n",
    "except:\n",
    "    ncpus = int(float(sp.getoutput('env | grep CPU')[-3:]))\n",
    "\n",
    "print('ncpus = '+str(ncpus))"
   ]
  },
  {
   "cell_type": "code",
   "execution_count": null,
   "metadata": {},
   "outputs": [],
   "source": [
    "%%time\n",
    "for g_id in gdf['GRID_ID'][1:].values:\n",
    "    print('working on grid: ' + g_id)\n",
    "    \n",
    "    #store temp files somewhere\n",
    "    directory=results+'tmp_'+g_id\n",
    "    if not os.path.exists(directory):\n",
    "        os.mkdir(directory)\n",
    "    \n",
    "    tmp='tmp_'+g_id+'/'\n",
    "    \n",
    "    #inputs to image seg\n",
    "    tiff_to_segment = results+'Eastern_tile_'+g_id+'_NDVI_S1.tif'\n",
    "    kea_file = results+'Eastern_tile_'+g_id+'_NDVI_S1.kea'\n",
    "    segmented_kea_file = results+'Eastern_tile_'+g_id+'_segmented.kea'\n",
    "\n",
    "    #convert tiff to kea\n",
    "    gdal.Translate(destName=kea_file,\n",
    "                   srcDS=tiff_to_segment,\n",
    "                   format='KEA',\n",
    "                   outputSRS='EPSG:6933')\n",
    "    \n",
    "    #run image seg\n",
    "    print('   image segmentation...')\n",
    "    with HiddenPrints():\n",
    "        segutils.runShepherdSegmentation(inputImg=kea_file,\n",
    "                                         outputClumps=segmented_kea_file,\n",
    "                                         tmpath=results+tmp,\n",
    "                                         numClusters=60,\n",
    "                                         minPxls=min_seg_size)\n",
    "    \n",
    "    #open segments\n",
    "    da=xr.open_rasterio(segmented_kea_file).squeeze()\n",
    "    #convert to polygons and export to disk\n",
    "    print('   writing segments to shapefile...')\n",
    "    with HiddenPrints():\n",
    "        gdf_seg = xr_vectorize(da, attribute_col='attribute')\n",
    "    print(\"   Number of segments: \"+str(len(gdf_seg)))\n",
    "    gdf_seg.to_file(results+tmp+'Eastern_tile_'+g_id+'_segments.shp')\n",
    "    \n",
    "    #calculate zonal-stats\n",
    "    print('   zonal statistics...')\n",
    "    zonal_stats_parallel(shp=results+tmp+'Eastern_tile_'+g_id+'_segments.shp',\n",
    "           raster=results+ 'Eastern_tile_'+g_id+'_prediction_pixel_'+model_type+'.tif',\n",
    "           statistics=['majority'],\n",
    "           out_shp=results+tmp+'Eastern_tile_'+g_id+\"_zonal_stats.shp\",\n",
    "           ncpus=ncpus if ncpus<25 else 25, #otherwise too much mem consumption\n",
    "           nodata=-1\n",
    "               )\n",
    "    \n",
    "    #rasterize the zonal-stats\n",
    "    with HiddenPrints():\n",
    "        gdf_zs=gpd.read_file(results+tmp+'Eastern_tile_'+g_id+\"_zonal_stats.shp\")\n",
    "        predict_zs = xr_rasterize(gdf_zs, da, attribute_col='majority')\n",
    "    \n",
    "    #write to disk\n",
    "    write_cog(predict_zs, results+ 'Eastern_tile_'+g_id+'_prediction_object_'+model_type+'.tif', overwrite=True)\n",
    "    \n",
    "    #remove the tmp folder\n",
    "    shutil.rmtree(results+tmp)\n",
    "    os.remove(kea_file)\n",
    "    os.remove(segmented_kea_file)"
   ]
  },
  {
   "cell_type": "code",
   "execution_count": null,
   "metadata": {},
   "outputs": [],
   "source": [
    "# from rsgislib.rastergis import populateRATWithMode\n",
    "# from rsgislib.rastergis import ratutils\n",
    "# from rsgislib import rastergis\n",
    "# from rios import rat\n",
    "# results = 'results/classifications/'\n",
    "# populateRATWithMode(valsimage=results+'Eastern_tile_B-19_prediction_pixel_gm_mads_two_seasons_20201106.tif',\n",
    "#                    clumps=results+'Eastern_tile_B-19_segmented.kea',\n",
    "#                    outcolsname ='mode')\n",
    "\n",
    "# ratutils.populateImageStats(\n",
    "#               inputImage=results+'Eastern_tile_'+g_id+'_prediction_pixel_'+model_type+'.tif',\n",
    "#               clumpsFile=results+'Eastern_tile_'+g_id+'_segmented.kea',\n",
    "#               calcSum=True\n",
    "# )\n",
    "\n",
    "# Attribute segments with class\n",
    "# rastergis.strClassMajority(baseclumps=results+'Eastern_tile_'+g_id+'_segmented.kea',\n",
    "#                            infoclumpsbaseclasscol=results+'Eastern_tile_'+g_id+'_prediction_pixel_'+model_type+'.tif',\n",
    "#                            baseclasscol= 'maj',\n",
    "#                            infoclasscol='maj',\n",
    "#                            ignorezero='False',\n",
    "#                           )\n",
    "\n",
    "# y = rat.readColumn(results+results+'Eastern_tile_B-19_segmented.kea',\n",
    "#                    'mode') "
   ]
  },
  {
   "cell_type": "markdown",
   "metadata": {},
   "source": [
    "***\n",
    "## RSGISlib Shepherd Seg tiled examples"
   ]
  },
  {
   "cell_type": "markdown",
   "metadata": {},
   "source": [
    "### single cpu, tiled"
   ]
  },
  {
   "cell_type": "code",
   "execution_count": null,
   "metadata": {},
   "outputs": [],
   "source": [
    "# from rsgislib.rastergis import populateRATWithMode\n",
    "# from rsgislib.rastergis import ratutils\n",
    "\n",
    "# populateRATWithMode(valsimage=results+'Eastern_tile_'+g_id+'_prediction_pixel_'+model_type+'.tif',\n",
    "#                    clumps=results+'Eastern_tile_'+g_id+'_segmented.kea',\n",
    "#                    outcolsname ='mode')\n",
    "\n",
    "# ratutils.populateImageStats(\n",
    "#               inputImage=results+'Eastern_tile_'+g_id+'_prediction_pixel_'+model_type+'.tif',\n",
    "#               clumpsFile=results+'Eastern_tile_'+g_id+'_segmented.kea',\n",
    "#               calcSum=True\n",
    "# )"
   ]
  },
  {
   "cell_type": "code",
   "execution_count": null,
   "metadata": {},
   "outputs": [],
   "source": [
    "%time\n",
    "# #run the segmentation\n",
    "with HiddenPrints():\n",
    "    tiledsegsingle.performTiledSegmentation(kea_file,\n",
    "                                    segmented_kea_file,\n",
    "                                    tmpDIR=temp,\n",
    "                                    numClusters=60,\n",
    "                                    validDataThreshold=validDataTileFraction, \n",
    "                                    tileWidth=width,\n",
    "                                    tileHeight=height,\n",
    "                                    minPxls=9)"
   ]
  },
  {
   "cell_type": "code",
   "execution_count": null,
   "metadata": {},
   "outputs": [],
   "source": [
    "# Attribute segments with zonal mean of input image and output as geotiff\n",
    "meanImage(tiff_to_segment, segmented_kea_file, segments_zonal_mean, \"GTIFF\",rsgislib.TYPE_32FLOAT)"
   ]
  },
  {
   "cell_type": "markdown",
   "metadata": {},
   "source": [
    "### n cpus, tiled"
   ]
  },
  {
   "cell_type": "code",
   "execution_count": null,
   "metadata": {},
   "outputs": [],
   "source": [
    "# %time\n",
    "#run the segmentation\n",
    "with HiddenPrints():\n",
    "    tiledSegParallel.performTiledSegmentation(kea_file,\n",
    "                                segmented_kea_file,\n",
    "                                tmpDIR=temp,\n",
    "                                numClusters=60,\n",
    "                                validDataThreshold=validDataTileFraction, \n",
    "                                tileWidth=width,\n",
    "                                tileHeight=height,\n",
    "                                minPxls=9,\n",
    "                                ncpus=ncpus)\n",
    "\n",
    "# Attribute segments with zonal mean of input image and output as geotiff\n",
    "meanImage(tiff_to_segment, segmented_kea_file, segments_zonal_mean, \"GTIFF\",rsgislib.TYPE_32FLOAT)"
   ]
  }
 ],
 "metadata": {
  "kernelspec": {
   "display_name": "Python 3",
   "language": "python",
   "name": "python3"
  },
  "language_info": {
   "codemirror_mode": {
    "name": "ipython",
    "version": 3
   },
   "file_extension": ".py",
   "mimetype": "text/x-python",
   "name": "python",
   "nbconvert_exporter": "python",
   "pygments_lexer": "ipython3",
   "version": "3.6.9"
  }
 },
 "nbformat": 4,
 "nbformat_minor": 4
}
