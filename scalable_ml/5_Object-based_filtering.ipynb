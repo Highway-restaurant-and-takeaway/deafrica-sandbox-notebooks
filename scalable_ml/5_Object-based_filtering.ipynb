{
 "cells": [
  {
   "cell_type": "markdown",
   "metadata": {},
   "source": [
    "# DRAFT\n",
    "# Filter pixel classifications results by segments\n",
    "\n",
    "To Do:\n",
    "- generalise\n",
    "- multiband inputs to rsgislib.shpeherdseg?\n",
    "- implement the tiled, multiprocessed version of shepherd seg\n",
    "- custom statistics to zonal stats? https://pythonhosted.org/rasterstats/manual.html#user-defined-statistics\n",
    "- instead of `zonal_stats_parallel` use RSGISLIB's raster-attribute-tables to assign pixel values to clumps?"
   ]
  },
  {
   "cell_type": "code",
   "execution_count": 1,
   "metadata": {},
   "outputs": [
    {
     "name": "stderr",
     "output_type": "stream",
     "text": [
      "/env/lib/python3.6/site-packages/datacube/storage/masking.py:4: DeprecationWarning: datacube.storage.masking has moved to datacube.utils.masking\n",
      "  category=DeprecationWarning)\n",
      "/usr/lib/python3.6/importlib/_bootstrap.py:219: RuntimeWarning: numpy.ufunc size changed, may indicate binary incompatibility. Expected 192 from C header, got 216 from PyObject\n",
      "  return f(*args, **kwds)\n",
      "/env/lib/python3.6/site-packages/cligj/__init__.py:17: FutureWarning: cligj 1.0.0 will require Python >= 3.7\n",
      "  warn(\"cligj 1.0.0 will require Python >= 3.7\", FutureWarning)\n"
     ]
    }
   ],
   "source": [
    "import os\n",
    "import sys\n",
    "import gdal\n",
    "import shutil\n",
    "import xarray as xr\n",
    "import geopandas as gpd\n",
    "import subprocess as sp\n",
    "from datacube.utils.cog import write_cog\n",
    "from rsgislib.segmentation import segutils\n",
    "\n",
    "sys.path.append('../Scripts')\n",
    "from deafrica_classificationtools import HiddenPrints\n",
    "from deafrica_spatialtools import xr_rasterize, xr_vectorize, zonal_stats_parallel\n"
   ]
  },
  {
   "cell_type": "markdown",
   "metadata": {},
   "source": [
    "# Analysis Parameters"
   ]
  },
  {
   "cell_type": "code",
   "execution_count": 2,
   "metadata": {},
   "outputs": [],
   "source": [
    "pred_tif = 'prediction.tif'\n",
    "tif_to_seg = 'NDVI_S1.tif'\n",
    "min_seg_size=100 #in number of pixels\n",
    "\n",
    "results = 'results/classifications/'\n"
   ]
  },
  {
   "cell_type": "markdown",
   "metadata": {},
   "source": [
    "## Image segmentation\n",
    "\n",
    "1. Generate image segments\n",
    "2. Vectorize segments\n",
    "3. Calculate zonal 'majority' statistic over vectorized segments\n",
    "4. Rasterize segments using 'majority' as pixel values.\n",
    "5. Write object-based classification to disk"
   ]
  },
  {
   "cell_type": "markdown",
   "metadata": {},
   "source": [
    "### Automatically find the number of cpus"
   ]
  },
  {
   "cell_type": "code",
   "execution_count": 3,
   "metadata": {},
   "outputs": [
    {
     "name": "stdout",
     "output_type": "stream",
     "text": [
      "ncpus = 31\n"
     ]
    }
   ],
   "source": [
    "try:\n",
    "    ncpus = int(float(sp.getoutput('env | grep CPU')[-4:]))\n",
    "except:\n",
    "    ncpus = int(float(sp.getoutput('env | grep CPU')[-3:]))\n",
    "\n",
    "print('ncpus = '+str(ncpus))"
   ]
  },
  {
   "cell_type": "markdown",
   "metadata": {},
   "source": [
    "## Run image segmentation"
   ]
  },
  {
   "cell_type": "code",
   "execution_count": 7,
   "metadata": {},
   "outputs": [],
   "source": [
    "#store temp files somewhere\n",
    "directory=results+'tmp_'\n",
    "if not os.path.exists(directory):\n",
    "    os.mkdir(directory)\n",
    "\n",
    "tmp='tmp_/'\n",
    "\n",
    "#inputs to image seg\n",
    "kea_file = results+tif_to_seg[:-4]+'.kea'\n",
    "segmented_kea_file = results+tif_to_seg[:-4]+'_segmented.kea'\n",
    "\n",
    "#convert tiff to kea\n",
    "gdal.Translate(destName=kea_file,\n",
    "               srcDS=results+tif_to_seg,\n",
    "               format='KEA',\n",
    "               outputSRS='EPSG:6933')\n",
    "\n",
    "#run image seg\n",
    "print('image segmentation...')\n",
    "with HiddenPrints():\n",
    "    segutils.runShepherdSegmentation(inputImg=kea_file,\n",
    "                                     outputClumps=segmented_kea_file,\n",
    "                                     tmpath=results+tmp,\n",
    "                                     numClusters=60,\n",
    "                                     minPxls=min_seg_size)"
   ]
  },
  {
   "cell_type": "markdown",
   "metadata": {},
   "source": [
    "## Vectorise segments"
   ]
  },
  {
   "cell_type": "code",
   "execution_count": null,
   "metadata": {},
   "outputs": [],
   "source": [
    "#open segments\n",
    "da=xr.open_rasterio(segmented_kea_file).squeeze()\n",
    "\n",
    "#convert to polygons and export to disk\n",
    "print('   writing segments to shapefile...')\n",
    "with HiddenPrints():\n",
    "    gdf_seg = xr_vectorize(da, attribute_col='attribute')\n",
    "print(\"   Number of segments: \"+str(len(gdf_seg)))\n",
    "gdf_seg.to_file(results+tif_to_seg[:-4]+'_segmented.shp')"
   ]
  },
  {
   "cell_type": "markdown",
   "metadata": {},
   "source": [
    "## Zonal statistics"
   ]
  },
  {
   "cell_type": "code",
   "execution_count": 8,
   "metadata": {},
   "outputs": [
    {
     "name": "stdout",
     "output_type": "stream",
     "text": [
      "   zonal statistics...\n"
     ]
    },
    {
     "name": "stderr",
     "output_type": "stream",
     "text": [
      "/env/lib/python3.6/site-packages/fiona/collection.py:352: FionaDeprecationWarning: Collection slicing is deprecated and will be disabled in a future version.\n",
      "  return self.session.__getitem__(item)\n"
     ]
    }
   ],
   "source": [
    "#calculate zonal-stats\n",
    "print('zonal statistics...')\n",
    "zonal_stats_parallel(shp=results+tif_to_seg[:-4]+'_segmented.shp',\n",
    "       raster=results+pred_tif,\n",
    "       statistics=['majority'],\n",
    "       out_shp=results+tmp+\"zonal_stats.shp\",\n",
    "       ncpus=ncpus if ncpus<25 else 25, #otherwise too much mem consumption\n",
    "       nodata=-1\n",
    "           )\n"
   ]
  },
  {
   "cell_type": "markdown",
   "metadata": {},
   "source": [
    "## Rasterize results & export result"
   ]
  },
  {
   "cell_type": "code",
   "execution_count": null,
   "metadata": {},
   "outputs": [],
   "source": [
    "#rasterize the zonal-stats\n",
    "with HiddenPrints():\n",
    "    gdf_zs=gpd.read_file(results+tmp+\"zonal_stats.shp\")\n",
    "    predict_zs = xr_rasterize(gdf_zs, da, attribute_col='majority')\n",
    "\n",
    "#write to disk\n",
    "write_cog(predict_zs, results+ 'prediction_object.tif', overwrite=True)\n",
    "\n",
    "#remove the tmp folder\n",
    "shutil.rmtree(results+tmp)\n",
    "os.remove(kea_file)\n",
    "os.remove(segmented_kea_file)"
   ]
  },
  {
   "cell_type": "markdown",
   "metadata": {},
   "source": [
    "## Plot"
   ]
  },
  {
   "cell_type": "code",
   "execution_count": 9,
   "metadata": {},
   "outputs": [
    {
     "data": {
      "text/plain": [
       "<matplotlib.collections.QuadMesh at 0x7fd59a8d2a90>"
      ]
     },
     "execution_count": 9,
     "metadata": {},
     "output_type": "execute_result"
    },
    {
     "data": {
      "image/png": "[encoded data removed]",
      "text/plain": [
       "<Figure size 864x576 with 2 Axes>"
      ]
     },
     "metadata": {
      "needs_background": "light"
     },
     "output_type": "display_data"
    }
   ],
   "source": [
    "predict_zs.plot(size=8);"
   ]
  },
  {
   "cell_type": "markdown",
   "metadata": {},
   "source": [
    "***\n",
    "\n",
    "## Testing object filtering with RSGISLIB\n",
    "\n",
    "`rsgislib.rastergis.populateRATWithMode`\n",
    "https://www.rsgislib.org/rsgislib_rastergis.html?#rsgislib.rastergis.ratutils.populateImageStats"
   ]
  },
  {
   "cell_type": "code",
   "execution_count": null,
   "metadata": {},
   "outputs": [],
   "source": [
    "# from rsgislib.rastergis import populateRATWithMode\n",
    "# from rsgislib.rastergis import ratutils\n",
    "# from rsgislib import rastergis\n",
    "# from rios import rat\n",
    "\n",
    "# populateRATWithMode(valsimage=results+'Eastern_tile_'+g_id+'_prediction_pixel_'+model_type+'.tif',\n",
    "#                    clumps=results+'Eastern_tile_'+g_id+'_segmented.kea',\n",
    "#                    outcolsname ='mode')\n",
    "\n",
    "# ratutils.populateImageStats(\n",
    "#               inputImage=results+'Eastern_tile_'+g_id+'_prediction_pixel_'+model_type+'.tif',\n",
    "#               clumpsFile=results+'Eastern_tile_'+g_id+'_segmented.kea',\n",
    "#               calcSum=True\n",
    "# )\n",
    "\n",
    "# # Attribute segments with class\n",
    "# rastergis.strClassMajority(clumpsFile=results+'Eastern_tile_'+g_id+'_segmented.kea',\n",
    "#                            infoclumps=results+'Eastern_tile_'+g_id+'_prediction_pixel_'+model_type+'.tif',\n",
    "#                            baseclasscol= 'maj',\n",
    "#                            infoclasscol='maj',\n",
    "#                            ignoreZero=False\n",
    "#                           )\n",
    "\n",
    "# y = rat.readColumn(results+'Eastern_tile_'+g_id+'_segmented.kea',\n",
    "#                    'maj') "
   ]
  },
  {
   "cell_type": "markdown",
   "metadata": {},
   "source": [
    "***\n",
    "## RSGISlib Shepherd Seg tiled examples"
   ]
  },
  {
   "cell_type": "markdown",
   "metadata": {},
   "source": [
    "### single cpu, tiled"
   ]
  },
  {
   "cell_type": "code",
   "execution_count": null,
   "metadata": {},
   "outputs": [],
   "source": [
    "%time\n",
    "# #run the segmentation\n",
    "with HiddenPrints():\n",
    "    tiledsegsingle.performTiledSegmentation(kea_file,\n",
    "                                    segmented_kea_file,\n",
    "                                    tmpDIR=temp,\n",
    "                                    numClusters=60,\n",
    "                                    validDataThreshold=validDataTileFraction, \n",
    "                                    tileWidth=width,\n",
    "                                    tileHeight=height,\n",
    "                                    minPxls=9)"
   ]
  },
  {
   "cell_type": "code",
   "execution_count": null,
   "metadata": {},
   "outputs": [],
   "source": [
    "# Attribute segments with zonal mean of input image and output as geotiff\n",
    "meanImage(tiff_to_segment, segmented_kea_file, segments_zonal_mean, \"GTIFF\",rsgislib.TYPE_32FLOAT)"
   ]
  },
  {
   "cell_type": "markdown",
   "metadata": {},
   "source": [
    "### n cpus, tiled"
   ]
  },
  {
   "cell_type": "code",
   "execution_count": null,
   "metadata": {},
   "outputs": [],
   "source": [
    "# %time\n",
    "#run the segmentation\n",
    "with HiddenPrints():\n",
    "    tiledSegParallel.performTiledSegmentation(kea_file,\n",
    "                                segmented_kea_file,\n",
    "                                tmpDIR=temp,\n",
    "                                numClusters=60,\n",
    "                                validDataThreshold=validDataTileFraction, \n",
    "                                tileWidth=width,\n",
    "                                tileHeight=height,\n",
    "                                minPxls=9,\n",
    "                                ncpus=ncpus)\n",
    "\n",
    "# Attribute segments with zonal mean of input image and output as geotiff\n",
    "meanImage(tiff_to_segment, segmented_kea_file, segments_zonal_mean, \"GTIFF\",rsgislib.TYPE_32FLOAT)"
   ]
  },
  {
   "cell_type": "markdown",
   "metadata": {},
   "source": [
    "Dask parallel zonal stats (seems really slow)"
   ]
  }
 ],
 "metadata": {
  "kernelspec": {
   "display_name": "Python 3",
   "language": "python",
   "name": "python3"
  },
  "language_info": {
   "codemirror_mode": {
    "name": "ipython",
    "version": 3
   },
   "file_extension": ".py",
   "mimetype": "text/x-python",
   "name": "python",
   "nbconvert_exporter": "python",
   "pygments_lexer": "ipython3",
   "version": "3.6.9"
  }
 },
 "nbformat": 4,
 "nbformat_minor": 4
}
