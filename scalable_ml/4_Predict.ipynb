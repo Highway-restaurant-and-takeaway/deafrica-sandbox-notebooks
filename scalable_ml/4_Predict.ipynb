{
 "cells": [
  {
   "cell_type": "markdown",
   "metadata": {},
   "source": [
    "# Prediction <img align=\"right\" src=\"../Supplementary_data/DE_Africa_Logo_Stacked_RGB_small.jpg\">"
   ]
  },
  {
   "cell_type": "markdown",
   "metadata": {},
   "source": [
    "## Background\n",
    "\n",
    "stuff"
   ]
  },
  {
   "cell_type": "markdown",
   "metadata": {},
   "source": [
    "## Description\n",
    "This notebook"
   ]
  },
  {
   "cell_type": "markdown",
   "metadata": {},
   "source": [
    "### Load Packages"
   ]
  },
  {
   "cell_type": "code",
   "execution_count": null,
   "metadata": {},
   "outputs": [],
   "source": [
    "# # !pip install richdem\n",
    "# !pip install https://packages.dea.ga.gov.au/hdstats/hdstats-0.1.5.tar.gz\n",
    "# !pip install dask-ml"
   ]
  },
  {
   "cell_type": "code",
   "execution_count": 1,
   "metadata": {},
   "outputs": [
    {
     "name": "stderr",
     "output_type": "stream",
     "text": [
      "/env/lib/python3.6/site-packages/datacube/storage/masking.py:4: DeprecationWarning: datacube.storage.masking has moved to datacube.utils.masking\n",
      "  category=DeprecationWarning)\n",
      "/env/lib/python3.6/site-packages/pkg_resources/__init__.py:1150: DeprecationWarning: Use of .. or absolute path in a resource path is not allowed and will raise exceptions in a future release.\n",
      "  self, resource_name\n",
      "/env/lib/python3.6/site-packages/branca/colormap.py:29: ResourceWarning: unclosed file <_io.BufferedReader name='/env/lib/python3.6/site-packages/branca/_cnames.json'>\n",
      "  resource_package, resource_path_cnames).read().decode()\n",
      "/env/lib/python3.6/site-packages/branca/colormap.py:33: ResourceWarning: unclosed file <_io.BufferedReader name='/env/lib/python3.6/site-packages/branca/_schemes.json'>\n",
      "  resource_package, resource_path_schemes).read().decode()\n"
     ]
    }
   ],
   "source": [
    "import sys\n",
    "import datacube\n",
    "import numpy as np\n",
    "import xarray as xr\n",
    "import geopandas as gpd\n",
    "import subprocess as sp\n",
    "from joblib import load\n",
    "import matplotlib.pyplot as plt\n",
    "from datacube.utils import geometry\n",
    "from datacube.utils.cog import write_cog\n",
    "from datacube.utils.geometry import assign_crs\n",
    "from sklearn.preprocessing import StandardScaler\n",
    "from odc.algo import xr_geomedian, int_geomedian\n",
    "\n",
    "sys.path.append('../Scripts')\n",
    "from deafrica_datahandling import load_ard\n",
    "from deafrica_spatialtools import xr_rasterize\n",
    "from deafrica_bandindices import calculate_indices\n",
    "from deafrica_dask import create_local_dask_cluster\n",
    "from deafrica_classificationtools import HiddenPrints\n",
    "from deafrica_plotting import rgb, display_map, map_shapefile\n",
    "from deafrica_classificationtools import HiddenPrints, predict_xr\n",
    "\n",
    "import warnings\n",
    "warnings.filterwarnings(\"ignore\")\n",
    "\n",
    "%load_ext autoreload\n",
    "%autoreload 2"
   ]
  },
  {
   "cell_type": "markdown",
   "metadata": {},
   "source": [
    "### Set up a dask cluster\n",
    "This will help keep our memory use down and conduct the analysis in parallel. If you'd like to view the dask dashboard, click on the hyperlink that prints below the cell. You can use the dashboard to monitor the progress of calculations."
   ]
  },
  {
   "cell_type": "code",
   "execution_count": null,
   "metadata": {},
   "outputs": [],
   "source": [
    "create_local_dask_cluster()"
   ]
  },
  {
   "cell_type": "markdown",
   "metadata": {},
   "source": [
    "## Analysis parameters\n",
    "\n",
    "* `model_path`: The path to the location where the model exported from the previous notebook is stored\n",
    "* `training_data`: Name and location of the training data `.txt` file output from runnning `1_Extract_training_data.ipynb`\n",
    "* `testing_locations`: A dictionary with values containing latitude and longitude points, and keys representing a unique ID to indetify the locations (these keys are used as filenames when exporting classifications as geotiffs).\n",
    "* `buffer`: The number of degrees to load around the central latitude and longitude points in `locations`. This number here will depend on the compute/RAM available on the Sandbox instance, and the type and number of feature layers calculated. A value of `0.25` (which results in a 0.5 x 0.5 degree analysis extent) usually works well on the large sandbox instance.\n",
    "* `results`: A folder location to store the classified geotiffs "
   ]
  },
  {
   "cell_type": "code",
   "execution_count": 4,
   "metadata": {},
   "outputs": [],
   "source": [
    "model_path = 'results/ml_model.joblib'\n",
    "\n",
    "training_data = \"results/training_data/test_training_data.txt\"\n",
    "\n",
    "testing_locations = {\n",
    "    '1': (-0.390, 37.494),\n",
    "    '2': (12.264, 37.012),\n",
    "    '3': (-7.367, 31.494),\n",
    "    '4': (1.943, 32.981),\n",
    "    '5': (8.395, 39.277)\n",
    "}\n",
    "\n",
    "buffer = 0.25\n",
    "\n",
    "results = 'results/classifications/'"
   ]
  },
  {
   "cell_type": "markdown",
   "metadata": {},
   "source": [
    "### Connect to the datacube"
   ]
  },
  {
   "cell_type": "code",
   "execution_count": null,
   "metadata": {},
   "outputs": [],
   "source": [
    "dc = datacube.Datacube(app='prediction')"
   ]
  },
  {
   "cell_type": "markdown",
   "metadata": {},
   "source": [
    "## Open the model\n",
    "\n",
    "If we ran the optional feature scaling method in the `3_Train_fit_evaluate_classifier.ipynb`, then we will also load in the standard scalar values.\n",
    "\n",
    "The code below will also re-open the training data we exported from `2_Inspect_training_data.ipynb` and grab the column names (features we selected)."
   ]
  },
  {
   "cell_type": "code",
   "execution_count": null,
   "metadata": {},
   "outputs": [],
   "source": [
    "model = load(model_path)"
   ]
  },
  {
   "cell_type": "code",
   "execution_count": null,
   "metadata": {},
   "outputs": [],
   "source": [
    "# load the column_names\n",
    "with open(training_data, 'r') as file:\n",
    "    header = file.readline()\n",
    "    \n",
    "column_names = header.split()[2:]\n",
    "print(column_names)"
   ]
  },
  {
   "cell_type": "markdown",
   "metadata": {},
   "source": [
    "## Making a prediction\n"
   ]
  },
  {
   "cell_type": "markdown",
   "metadata": {},
   "source": [
    "### 1. Redefining the feature layer function\n",
    "\n",
    "How you define this function will depend on the steps you took in the previous notebooks.  If you elected to use the feature selection methods in `2_Inspect_training_data.ipynb` to reduce the number of features, then you may need to reconfigure the function to reduce the number of layers loaded (thereby reducing the time it takes to load and/or compute the feature layers). If you instead elected to use all the features extracted in `1_Extract_training_data.ipynb`, then you can simply copy-and-paste your `custom_training_data` function from the first notebook into the cell below."
   ]
  },
  {
   "cell_type": "code",
   "execution_count": null,
   "metadata": {},
   "outputs": [],
   "source": [
    "def two_seasons_gm_mads(ds):\n",
    "    #connect to datacube\n",
    "    dc = datacube.Datacube(app='training')\n",
    "    #normalise dataset 0-1\n",
    "    ds = ds / 10000\n",
    "    \n",
    "    #split ds into 2 six month periods\n",
    "    ds1 = ds.sel(time=slice('2019-01', '2019-06'))\n",
    "    ds2 = ds.sel(time=slice('2019-07', '2019-12')) \n",
    "    \n",
    "    def gm(ds, era):\n",
    "        \n",
    "        #geomedian and indices\n",
    "        gm_ = xr_geomedian(ds)\n",
    "        gm_ = calculate_indices(gm_mads,\n",
    "                               index=['NDVI'],\n",
    "                               drop=False,\n",
    "                               normalise=False,\n",
    "                               collection='s2')\n",
    "        \n",
    "        #rename bands with suffix for each season\n",
    "        for band in gm_.data_vars:\n",
    "            gm_ = gm_.rename({band:band+era})\n",
    "        \n",
    "        return gm_\n",
    "    \n",
    "    epoch1 = gm(ds1, era='_S1')\n",
    "    epoch2 = gm(ds2, era='_S2')\n",
    "    \n",
    "    #add slope dataset\n",
    "    url_slope = \"https://deafrica-data.s3.amazonaws.com/ancillary/dem-derivatives/cog_slope_africa.tif\"\n",
    "    slope = rio_slurp_xarray(url_slope, gbox=ds.geobox)\n",
    "    slope = slope.to_dataset(name='slope').chunk({'x':1000,'y':1000,'time':1})\n",
    "    \n",
    "    #merge results into single dataset \n",
    "    result = xr.merge([epoch1,\n",
    "                       epoch2,\n",
    "                       slope],compat='override')\n",
    "    \n",
    "    # keep only the features we identified as useful\n",
    "    # in the earlier notebooks\n",
    "    result = result[column_names]\n",
    "\n",
    "    return result.squeeze()"
   ]
  },
  {
   "cell_type": "markdown",
   "metadata": {},
   "source": [
    "### 2. Set up datacube query\n",
    "\n",
    "These query options should match the query params in `1_Extract_training_data.ipynb`, unless there are measurements that no longer need to be loaded because they were dropped during the feature selection process."
   ]
  },
  {
   "cell_type": "code",
   "execution_count": null,
   "metadata": {},
   "outputs": [],
   "source": [
    "#set up our inputs to collect_training_data\n",
    "products =  ['s2_l2a']\n",
    "time = ('2019-01','2019-12')\n",
    "\n",
    "# Set up the inputs for the ODC query\n",
    "measurements =  ['red','blue','green','nir','swir_1','swir_2']\n",
    "resolution = (-20,20)\n",
    "output_crs='epsg:6933'\n",
    "dask_chunks={'x':1000,'y':1000,'time':1}"
   ]
  },
  {
   "cell_type": "markdown",
   "metadata": {},
   "source": [
    "### 3. Loop through test locations and predict\n",
    "\n",
    "For every location we listed in the `test_locations` dictionary, we calculate the feature layers, and then use the DE Africa functions `predict_xr` and to classify the data."
   ]
  },
  {
   "cell_type": "code",
   "execution_count": null,
   "metadata": {},
   "outputs": [],
   "source": [
    "predictions = []\n",
    "\n",
    "for key, value in test_locations.items():\n",
    "    \n",
    "    print('working on: ' + key)\n",
    "\n",
    "     # generate a datacube query object\n",
    "    query = {\n",
    "        'x': (value[1]-buffer, value[1]+buffer),\n",
    "        'y': (value[0]+new_buffer, value[0]-new_buffer),\n",
    "        'time': time,\n",
    "        'measurements': measurements,\n",
    "        'resolution': resolution,\n",
    "        'output_crs': output_crs,\n",
    "        'group_by' : 'solar_day',\n",
    "    }\n",
    "    \n",
    "    #load data\n",
    "    with HiddenPrints():\n",
    "        ds = load_ard(dc=dc,\n",
    "                      products=products,\n",
    "                      dask_chunks=dask_chunks,\n",
    "                      **query)\n",
    "\n",
    "    #calculate features\n",
    "    data = gm_mads_two_seasons(ds)\n",
    "    \n",
    "    #predict using the imported model\n",
    "    predicted = predict_xr(model,\n",
    "                           data,\n",
    "                           proba=True,\n",
    "                           persist=True,\n",
    "                           clean=True,\n",
    "                           return_input=True\n",
    "                          ).compute()\n",
    "        \n",
    "    predictions.append(predicted)\n",
    "    "
   ]
  },
  {
   "cell_type": "markdown",
   "metadata": {},
   "source": [
    "## Plotting results"
   ]
  },
  {
   "cell_type": "code",
   "execution_count": null,
   "metadata": {},
   "outputs": [],
   "source": [
    "for i in range(0, len(predictions)):\n",
    "    fig, axes = plt.subplots(1, 3, figsize=(30, 12))\n",
    "\n",
    "\n",
    "    # Plot classified image\n",
    "    predictions[i].Predictions.plot(ax=axes[0], \n",
    "                   cmap='Greens', \n",
    "                   add_labels=False, \n",
    "                   add_colorbar=False)\n",
    "\n",
    "    # Plot true colour image\n",
    "    rgb(features[i], bands=['red_S2','green_S2','blue_S2'],\n",
    "        ax=axes[1], percentile_stretch=(0.01, 0.99))\n",
    "\n",
    "    predictions[i].Probabilities.plot(ax=axes[2], \n",
    "                   cmap='magma',\n",
    "                   vmin=0,\n",
    "                   vmax=100,\n",
    "                   add_labels=False, \n",
    "                   add_colorbar=True)\n",
    "\n",
    "    # Remove axis on right plot\n",
    "    axes[2].get_yaxis().set_visible(False)\n",
    "\n",
    "    # Add plot titles\n",
    "    axes[0].set_title('Classified Image')\n",
    "    axes[1].set_title('True Colour Geomedian')\n",
    "    axes[2].set_title('Probabilities');"
   ]
  },
  {
   "cell_type": "markdown",
   "metadata": {},
   "source": [
    "## Large scale classification\n",
    "\n",
    "If you're happy with the results of the test locations, then attempt to classify a large region by re-entering a new latitude, longitude and larger buffer size. You may need to adjust the `dask_chunks` size to optimize for the larger region."
   ]
  },
  {
   "cell_type": "code",
   "execution_count": null,
   "metadata": {},
   "outputs": [],
   "source": [
    "#clear objects from memory\n",
    "del ds\n",
    "del predictions\n",
    "del features"
   ]
  },
  {
   "cell_type": "code",
   "execution_count": null,
   "metadata": {},
   "outputs": [],
   "source": [
    "new_lat, new_lon = -0.2820, 37.0690\n",
    "new_buffer = 0.1\n",
    "dask_chunks={'x':1000,'y':1000,'time':1}\n",
    "name='Kenya'"
   ]
  },
  {
   "cell_type": "code",
   "execution_count": null,
   "metadata": {},
   "outputs": [],
   "source": [
    "display_map((new_lon-new_buffer, new_lon+new_buffer), (new_lat+new_buffer, new_lat-new_buffer))"
   ]
  },
  {
   "cell_type": "code",
   "execution_count": null,
   "metadata": {},
   "outputs": [],
   "source": [
    "%%time\n",
    "\n",
    "# generate a datacube query object\n",
    "query = {\n",
    "    'x': (new_lon-new_buffer, new_lon+new_buffer),\n",
    "    'y': (new_lat+new_buffer, new_lat-new_buffer),\n",
    "    'time': time,\n",
    "    'measurements': measurements,\n",
    "    'resolution': resolution,\n",
    "    'output_crs': output_crs,\n",
    "    'group_by' : 'solar_day',\n",
    "}\n",
    "\n",
    "#load data\n",
    "ds = load_ard(dc=dc,\n",
    "              products=products,\n",
    "              dask_chunks=dask_chunks,\n",
    "              **query)\n",
    "\n",
    "# calculate features (don't compute, let predict_xr do that)\n",
    "features = two_seasons_gm_mads(ds, column_names)\n",
    "\n",
    "#predict using the imported model\n",
    "predicted = predict_xr(model, features, proba=True, persist=True, clean=True, return_input=True).compute()\n",
    "\n",
    "write_cog(predicted.Predictions, results+ 'Eastern_tile_'+name+'_prediction.tif', overwrite=True)\n",
    "write_cog(predicted.Probabilities, results+ 'Eastern_tile_'+name+'_probabilities.tif', overwrite=True)"
   ]
  },
  {
   "cell_type": "code",
   "execution_count": null,
   "metadata": {},
   "outputs": [],
   "source": [
    "fig, axes = plt.subplots(1, 1, figsize=(30, 15))\n",
    "\n",
    "# Plot classified image\n",
    "predicted.Predictions.plot(ax=axes[0], \n",
    "               cmap='Greens', \n",
    "               add_labels=False, \n",
    "               add_colorbar=False)\n",
    "\n",
    "predicted.Probabilities.plot(ax=axes[1], \n",
    "               cmap='magma',\n",
    "               vmin=0,\n",
    "               vmax=100,\n",
    "               add_labels=False, \n",
    "               add_colorbar=True)\n",
    "\n",
    "Remove axis on right plot\n",
    "axes[1].get_yaxis().set_visible(False)\n",
    "\n",
    "Add plot titles\n",
    "axes[0].set_title('Classified Image')\n",
    "axes[1].set_title('Probabilities');"
   ]
  },
  {
   "cell_type": "code",
   "execution_count": null,
   "metadata": {},
   "outputs": [],
   "source": []
  },
  {
   "cell_type": "code",
   "execution_count": null,
   "metadata": {},
   "outputs": [],
   "source": []
  },
  {
   "cell_type": "code",
   "execution_count": null,
   "metadata": {},
   "outputs": [],
   "source": []
  },
  {
   "cell_type": "markdown",
   "metadata": {},
   "source": [
    "***\n",
    "# CUTS"
   ]
  },
  {
   "cell_type": "code",
   "execution_count": null,
   "metadata": {},
   "outputs": [],
   "source": [
    "        #band indices\n",
    "#         bi = calculate_indices(ds,\n",
    "#                                index=['EVI', 'LAI'],\n",
    "#                                drop=True,\n",
    "#                                normalise=False,\n",
    "#                                collection='s2')\n",
    "        \n",
    "#         bi_max = bi.max('time')\n",
    "#         bi_min = bi.min('time')\n",
    "#         bi_range = bi_max - bi_min\n",
    "#         bi_range = bi_range.rename({'EVI':'EVI_range','LAI':'LAI_range'})\n",
    "#         bi_max = bi_max.rename({'EVI':'EVI_max','LAI':'LAI_max'})\n",
    "#         bi_min = bi_min.rename({'EVI':'EVI_min','LAI':'LAI_min'})\n",
    "#  out = xr.merge([gm_mads,bi_max,bi_min,bi_range],compat='override')"
   ]
  },
  {
   "cell_type": "code",
   "execution_count": null,
   "metadata": {},
   "outputs": [],
   "source": [
    "# test_locations = {\n",
    "#              '1':(12.2636, 37.0244),\n",
    "#              '2':(-0.2953, 38.4422),\n",
    "#              '3':(11.5217, 37.4894),\n",
    "#              '4':(-3.2838, 35.8406),\n",
    "#              '5':(-0.3878, 37.4869),\n",
    "#              '6':(-3.4866, 37.3650),\n",
    "#              '7':(-0.7062, 36.5865),\n",
    "#              '8':(-0.6926, 35.6443)\n",
    "#             }\n",
    "\n",
    "# buffer = 0.15\n",
    "\n",
    "\n",
    "# for key, latlon in test_locations.items():\n",
    "#     print(\"Working on : \"+str(latlon))\n",
    "    \n",
    "#     # generate a datacube query object\n",
    "#     query = {\n",
    "#         'x': (latlon[1]-buffer, latlon[1]+buffer),\n",
    "#         'y': (latlon[0]+buffer, latlon[0]-buffer),\n",
    "#         'time': time,\n",
    "#         'measurements': measurements,\n",
    "#         'resolution': resolution,\n",
    "#         'output_crs': output_crs,\n",
    "#         'group_by' : 'solar_day',\n",
    "#     }\n",
    "    \n",
    "#     #load data\n",
    "#     with HiddenPrints():\n",
    "#         ds = load_ard(dc=dc,\n",
    "#                       products=products,\n",
    "#                       dask_chunks=dask_chunks,\n",
    "#                       min_gooddata=0.10,\n",
    "#                       **query)\n",
    "        \n",
    "#     # calculate features\n",
    "#     data = two_seasons_gm_mads(ds, column_names)\n",
    "    \n",
    "#     #predict using the imported model\n",
    "#     predicted = predict_xr(model, data, proba=True, persist=True, clean=True).compute()\n",
    "#     predictions.append(predicted)\n",
    "#     print('   loading features...')\n",
    "#     features.append(data.compute())\n",
    "        \n",
    "#     #export data to disk\n",
    "#     write_cog(predicted.Predictions, results+ 'Eastern_tile_'+g_id+'_prediction.tif', overwrite=True)\n",
    "#     write_cog(predicted.Probabilities, results+ 'Eastern_tile_'+g_id+'_probability.tif', overwrite=True)"
   ]
  }
 ],
 "metadata": {
  "kernelspec": {
   "display_name": "Python 3",
   "language": "python",
   "name": "python3"
  },
  "language_info": {
   "codemirror_mode": {
    "name": "ipython",
    "version": 3
   },
   "file_extension": ".py",
   "mimetype": "text/x-python",
   "name": "python",
   "nbconvert_exporter": "python",
   "pygments_lexer": "ipython3",
   "version": "3.6.9"
  }
 },
 "nbformat": 4,
 "nbformat_minor": 4
}
